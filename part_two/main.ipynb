{
 "cells": [
  {
   "cell_type": "code",
   "execution_count": 174,
   "metadata": {},
   "outputs": [],
   "source": [
    "import pandas as pd\n",
    "import matplotlib.pyplot as plt\n"
   ]
  },
  {
   "cell_type": "markdown",
   "metadata": {},
   "source": [
    "## Cau a"
   ]
  },
  {
   "cell_type": "code",
   "execution_count": 163,
   "metadata": {},
   "outputs": [],
   "source": [
    "df_san_pham = pd.read_excel(\"DuLieuThucHanh2_V1.xlsx\", sheet_name=\"San Pham\")\n",
    "df_nhan_vien = pd.read_excel(\"DuLieuThucHanh2_V1.xlsx\", sheet_name=\"Nhan Vien\")\n",
    "df_hoa_don = pd.read_excel(\"DuLieuThucHanh2_V1.xlsx\", sheet_name=\"Hoa Don\")\n",
    "df_thong_tin = pd.read_excel(\"DuLieuThucHanh2_V1.xlsx\", sheet_name=\"Thong Tin Hoa Don\")\n"
   ]
  },
  {
   "cell_type": "markdown",
   "metadata": {},
   "source": [
    "## Cau b"
   ]
  },
  {
   "cell_type": "code",
   "execution_count": 164,
   "metadata": {},
   "outputs": [
    {
     "name": "stdout",
     "output_type": "stream",
     "text": [
      "    ID San Pham                          Ten  So Luong Da Ban\n",
      "0             1                  Máy hút bụi             15.0\n",
      "1             2           Điện thoại di động              8.0\n",
      "2             3                  Laptop Dell             10.0\n",
      "3             4           Tai nghe Bluetooth             13.0\n",
      "4             5                    Quạt trần             39.0\n",
      "5             6                Máy tính bảng             13.0\n",
      "6             7                    Tivi OLED              7.0\n",
      "7             8                 Máy ảnh DSLR             13.0\n",
      "8             9              Bàn là hơi nước             17.0\n",
      "9            10            Máy lọc không khí             21.0\n",
      "10           11               Ổ cứng SSD 1TB              7.0\n",
      "11           12                       Bếp từ              8.0\n",
      "12           13               Máy pha cà phê              8.0\n",
      "13           14             Dàn âm thanh 5.1             11.0\n",
      "14           15                  Máy sấy tóc             15.0\n",
      "15           16                Loa Bluetooth             17.0\n",
      "16           17              Máy làm bánh mì             11.0\n",
      "17           18         Bình nước thông minh             10.0\n",
      "18           19          Máy massage cầm tay             10.0\n",
      "19           20        Ổ cắm điện thông minh             16.0\n",
      "20           21          Máy làm kem tự đông              8.0\n",
      "21           22            Dụng cụ làm sushi             12.0\n",
      "22           23               Máy xay cà phê             16.0\n",
      "23           24            Bếp từ hồng ngoại              9.0\n",
      "24           25     Đèn trang trí thông minh             22.0\n",
      "25           26           Máy phát sóng WiFi             12.0\n",
      "26           27               Máy làm đá bào              7.0\n",
      "27           28            Tai nghe chống ồn             15.0\n",
      "28           29                 Máy sưởi dầu              9.0\n",
      "29           30        Dụng cụ làm bánh ngọt             13.0\n",
      "30           31              Bàn là hơi nước              1.0\n",
      "31           32               Quạt điện đứng              3.0\n",
      "32           33      Ổ cắm thông minh loại 2              2.0\n",
      "33           34                   Máy tạo ẩm              2.0\n",
      "34           35           Tai nghe không dây              1.0\n",
      "35           36              Nồi cơm điện tử              3.0\n",
      "36           37                      Loa kéo              2.0\n",
      "37           38     Camera an ninh không dây              2.0\n",
      "38           39      Bàn làm việc thông minh              0.0\n",
      "39           40             Đèn led trần nhà              0.0\n",
      "40           41            Máy lọc không khí              0.0\n",
      "41           42               Bếp hồng ngoại              0.0\n",
      "42           43                  Máy sấy tóc              0.0\n",
      "43           44               Máy đánh trứng              0.0\n",
      "44           45           Đèn bàn thông minh              0.0\n",
      "45           46          Bình nước nóng lạnh              0.0\n",
      "46           47           Điều hòa không khí              0.0\n",
      "47           48       Máy hút bụi thông minh              0.0\n",
      "48           49       Máy pha cà phê tự động              0.0\n",
      "49           50           Dụng cụ trang điểm              0.0\n",
      "50           51   Máy đo nhiệt độ hồng ngoại              0.0\n",
      "51           52              Bình phun sương              0.0\n",
      "52           53              Máy làm sữa hạt              0.0\n",
      "53           54            Bàn làm việc đứng              0.0\n",
      "54           55            Ổ cắm điện loại 3              0.0\n",
      "55           56           Tai nghe Bluetooth              0.0\n",
      "56           57    Dụng cụ làm bánh bông lan              0.0\n",
      "57           58          Máy làm kem tại nhà              0.0\n",
      "58           59              Máy xay sinh tố              0.0\n",
      "59           60  Bàn làm việc thông minh mới              0.0\n",
      "========San Pham Ban Chay Nhat============\n",
      "   ID San Pham        Ten  So Luong Da Ban\n",
      "4            5  Quạt trần             39.0\n"
     ]
    }
   ],
   "source": [
    "df_ban_hang = df_san_pham.merge(df_thong_tin, on=['ID San Pham'], how=\"left\")\n",
    "df_ban_hang =  df_ban_hang.groupby([\"ID San Pham\", \"Ten\"]).agg({\"So Luong_y\": \"sum\"}).reset_index()\n",
    "df_ban_hang.rename(columns={\"So Luong_y\": \"So Luong Da Ban\"}, inplace=True)\n",
    "print(df_ban_hang)\n",
    "best_seller =  df_ban_hang.agg({\"So Luong Da Ban\": \"max\"})[\"So Luong Da Ban\"]\n",
    "print(\"========San Pham Ban Chay Nhat============\")\n",
    "print(df_ban_hang[df_ban_hang[\"So Luong Da Ban\"] == best_seller])\n"
   ]
  },
  {
   "cell_type": "code",
   "execution_count": 140,
   "metadata": {},
   "outputs": [
    {
     "name": "stdout",
     "output_type": "stream",
     "text": [
      "Tong Doanh Thu Cua Cua Hang: 14555\n"
     ]
    }
   ],
   "source": [
    "df_doanh_thu =  df_san_pham.merge(df_ban_hang, on=[\"ID San Pham\"])\n",
    "sum_revenue = 0\n",
    "\n",
    "for index, product in df_doanh_thu.iterrows():\n",
    "  sl = product[\"So Luong Da Ban\"]\n",
    "  price = product[\"Gia\"]\n",
    "  if sl is not None and price is not None:\n",
    "    sum_revenue += int(sl) * int(price)\n",
    "\n",
    "print(\"Tong Doanh Thu Cua Cua Hang: \" + str(sum_revenue))\n",
    "\n"
   ]
  },
  {
   "cell_type": "code",
   "execution_count": 141,
   "metadata": {},
   "outputs": [
    {
     "name": "stdout",
     "output_type": "stream",
     "text": [
      "    ID San Pham                          Ten  So Luong  Gia  So Luong Da Ban\n",
      "0             1                  Máy hút bụi      85.0   50             15.0\n",
      "1             2           Điện thoại di động      67.0   30              8.0\n",
      "2             3                  Laptop Dell     140.0   25             10.0\n",
      "3             4           Tai nghe Bluetooth      67.0   40             13.0\n",
      "4             5                    Quạt trần      11.0   20             39.0\n",
      "5             6                Máy tính bảng     107.0   35             13.0\n",
      "6             7                    Tivi OLED      23.0   60              7.0\n",
      "7             8                 Máy ảnh DSLR      27.0   75             13.0\n",
      "8             9              Bàn là hơi nước      73.0   15             17.0\n",
      "9            10            Máy lọc không khí      39.0   45             21.0\n",
      "10           11               Ổ cứng SSD 1TB      18.0   80              7.0\n",
      "11           12                       Bếp từ      62.0   55              8.0\n",
      "12           13               Máy pha cà phê      37.0   22              8.0\n",
      "13           14             Dàn âm thanh 5.1      24.0   70             11.0\n",
      "14           15                  Máy sấy tóc      70.0   18             15.0\n",
      "15           16                Loa Bluetooth      43.0   25             17.0\n",
      "16           17              Máy làm bánh mì      29.0   40             11.0\n",
      "17           18         Bình nước thông minh      90.0   15             10.0\n",
      "18           19          Máy massage cầm tay      65.0   35             10.0\n",
      "19           20        Ổ cắm điện thông minh      74.0   20             16.0\n",
      "20           21          Máy làm kem tự đông      22.0   50              8.0\n",
      "21           22            Dụng cụ làm sushi      38.0   18             12.0\n",
      "22           23               Máy xay cà phê      69.0   30             16.0\n",
      "23           24            Bếp từ hồng ngoại      11.0   65              9.0\n",
      "24           25     Đèn trang trí thông minh      48.0   22             22.0\n",
      "25           26           Máy phát sóng WiFi      43.0   28             12.0\n",
      "26           27               Máy làm đá bào      18.0   42              7.0\n",
      "27           28            Tai nghe chống ồn      20.0   55             15.0\n",
      "28           29                 Máy sưởi dầu      56.0   28              9.0\n",
      "29           30        Dụng cụ làm bánh ngọt      32.0   32             13.0\n",
      "30           31              Bàn là hơi nước      14.0   50              1.0\n",
      "31           32               Quạt điện đứng      17.0   35              3.0\n",
      "32           33      Ổ cắm thông minh loại 2      23.0   18              2.0\n",
      "33           34                   Máy tạo ẩm       8.0   45              2.0\n",
      "34           35           Tai nghe không dây      29.0   40              1.0\n",
      "35           36              Nồi cơm điện tử      15.0   55              3.0\n",
      "36           37                      Loa kéo      20.0   65              2.0\n",
      "37           38     Camera an ninh không dây      10.0   80              2.0\n",
      "38           39      Bàn làm việc thông minh       8.0  120              0.0\n",
      "39           40             Đèn led trần nhà      28.0   25              0.0\n",
      "40           41            Máy lọc không khí      15.0   70              0.0\n",
      "41           42               Bếp hồng ngoại      10.0   60              0.0\n",
      "42           43                  Máy sấy tóc      25.0   22              0.0\n",
      "43           44               Máy đánh trứng       7.0   28              0.0\n",
      "44           45           Đèn bàn thông minh      32.0   15              0.0\n",
      "45           46          Bình nước nóng lạnh      14.0   90              0.0\n",
      "46           47           Điều hòa không khí       5.0  120              0.0\n",
      "47           48       Máy hút bụi thông minh       9.0   75              0.0\n",
      "48           49       Máy pha cà phê tự động      20.0   85              0.0\n",
      "49           50           Dụng cụ trang điểm      16.0   30              0.0\n",
      "50           51   Máy đo nhiệt độ hồng ngoại      18.0   40              0.0\n",
      "51           52              Bình phun sương      10.0   20              0.0\n",
      "52           53              Máy làm sữa hạt      12.0   65              0.0\n",
      "53           54            Bàn làm việc đứng       8.0   80              0.0\n",
      "54           55            Ổ cắm điện loại 3      24.0   12              0.0\n",
      "55           56           Tai nghe Bluetooth      15.0   28              0.0\n",
      "56           57    Dụng cụ làm bánh bông lan      11.0   32              0.0\n",
      "57           58          Máy làm kem tại nhà       6.0   50              0.0\n",
      "58           59              Máy xay sinh tố      17.0   35              0.0\n",
      "59           60  Bàn làm việc thông minh mới      20.0  100              0.0\n"
     ]
    }
   ],
   "source": [
    "# Update lai so luong\n",
    "df_doanh_thu[\"So Luong\"] = df_doanh_thu[\"So Luong\"] - df_doanh_thu[\"So Luong Da Ban\"]\n",
    "\n",
    "print(df_doanh_thu)\n",
    "  \n"
   ]
  },
  {
   "cell_type": "code",
   "execution_count": 166,
   "metadata": {},
   "outputs": [
    {
     "name": "stdout",
     "output_type": "stream",
     "text": [
      "    ID Hoa Don  ID San Pham  So Luong\n",
      "0            1            1        10\n",
      "1            1            2         5\n",
      "2            2            3         8\n",
      "3            2            4        12\n",
      "4            3            5        35\n",
      "..         ...          ...       ...\n",
      "63          47           34         2\n",
      "64          47           35         1\n",
      "65          48           36         3\n",
      "66          48           37         2\n",
      "67          49           38         2\n",
      "\n",
      "[68 rows x 3 columns]\n"
     ]
    }
   ],
   "source": [
    "df_thong_tin = df_thong_tin.groupby([\"ID Hoa Don\", \"ID San Pham\"]).agg({\"So Luong\" : \"sum\"}).reset_index()\n",
    "print(df_thong_tin)"
   ]
  },
  {
   "cell_type": "code",
   "execution_count": 189,
   "metadata": {},
   "outputs": [
    {
     "data": {
      "image/png": "[encoded data removed]",
      "text/plain": [
       "<Figure size 640x480 with 1 Axes>"
      ]
     },
     "metadata": {},
     "output_type": "display_data"
    }
   ],
   "source": [
    "plot = plt.bar(df_ban_hang[\"ID San Pham\"], df_ban_hang[\"So Luong Da Ban\"])\n",
    "\n",
    "plt.xlabel('ID San Pham')\n",
    "plt.ylabel('So Luong Da Ban')\n",
    "plt.title('Bang thong ke so luong mat hang da ban')\n",
    "\n",
    "plt.show()"
   ]
  },
  {
   "cell_type": "code",
   "execution_count": null,
   "metadata": {},
   "outputs": [],
   "source": [
    "\n"
   ]
  }
 ],
 "metadata": {
  "kernelspec": {
   "display_name": "Python 3",
   "language": "python",
   "name": "python3"
  },
  "language_info": {
   "codemirror_mode": {
    "name": "ipython",
    "version": 3
   },
   "file_extension": ".py",
   "mimetype": "text/x-python",
   "name": "python",
   "nbconvert_exporter": "python",
   "pygments_lexer": "ipython3",
   "version": "3.11.1"
  }
 },
 "nbformat": 4,
 "nbformat_minor": 2
}
